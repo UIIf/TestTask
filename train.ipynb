{
 "cells": [
  {
   "cell_type": "code",
   "execution_count": 1,
   "id": "0cbd4705",
   "metadata": {},
   "outputs": [
    {
     "name": "stderr",
     "output_type": "stream",
     "text": [
      "c:\\gr\\TestTask\\.conda\\Lib\\site-packages\\tqdm\\auto.py:21: TqdmWarning: IProgress not found. Please update jupyter and ipywidgets. See https://ipywidgets.readthedocs.io/en/stable/user_install.html\n",
      "  from .autonotebook import tqdm as notebook_tqdm\n"
     ]
    }
   ],
   "source": [
    "import matplotlib.pyplot as plt\n",
    "from transformers import AutoImageProcessor, AutoModel\n",
    "import torch\n",
    "\n",
    "import cv2\n",
    "import numpy as np\n",
    "\n",
    "from sklearn.model_selection import train_test_split\n",
    "import os\n",
    "import tqdm"
   ]
  },
  {
   "cell_type": "markdown",
   "id": "d6c90f2c",
   "metadata": {},
   "source": [
    "# Prepare data"
   ]
  },
  {
   "cell_type": "code",
   "execution_count": 2,
   "id": "0c6c194f",
   "metadata": {},
   "outputs": [],
   "source": [
    "targets = []\n",
    "paths = []\n",
    "\n",
    "for folder in os.listdir(\"./flowers\"):\n",
    "    targets.extend([folder] * len(os.listdir(os.path.join(\"./flowers\", folder))))\n",
    "    paths.extend(\n",
    "        [\n",
    "            os.path.join(\"./flowers\", folder, file)\n",
    "            for file in os.listdir(os.path.join(\"./flowers\", folder))\n",
    "        ]\n",
    "    )"
   ]
  },
  {
   "cell_type": "code",
   "execution_count": 3,
   "id": "bcc22eb1",
   "metadata": {},
   "outputs": [],
   "source": [
    "train_paths, test_paths, train_targets, test_targtes = train_test_split(paths, targets, test_size=0.2, stratify=targets, shuffle=True, random_state=42)"
   ]
  },
  {
   "cell_type": "markdown",
   "id": "43f84883",
   "metadata": {},
   "source": [
    "# Feature extraction"
   ]
  },
  {
   "cell_type": "markdown",
   "id": "c4db370b",
   "metadata": {},
   "source": [
    "## Pretrained "
   ]
  },
  {
   "cell_type": "code",
   "execution_count": 4,
   "id": "c7cbf0b8",
   "metadata": {},
   "outputs": [
    {
     "name": "stderr",
     "output_type": "stream",
     "text": [
      "Using a slow image processor as `use_fast` is unset and a slow processor was saved with this model. `use_fast=True` will be the default behavior in v4.52, even if the model was saved with a slow processor. This will result in minor differences in outputs. You'll still be able to use a slow processor with `use_fast=False`.\n"
     ]
    }
   ],
   "source": [
    "preprocess = AutoImageProcessor.from_pretrained(\"facebook/dinov2-small\", device=\"cuda:0\")\n",
    "model = AutoModel.from_pretrained(\"facebook/dinov2-small\")"
   ]
  },
  {
   "cell_type": "code",
   "execution_count": null,
   "id": "6c4ac9aa",
   "metadata": {},
   "outputs": [
    {
     "name": "stderr",
     "output_type": "stream",
     "text": [
      " 82%|████████▏ | 2823/3453 [04:15<00:59, 10.66it/s]"
     ]
    }
   ],
   "source": [
    "with torch.no_grad():\n",
    "    embeddings_train = []\n",
    "    for path in tqdm.tqdm(train_paths):\n",
    "        embeddings_train.append(\n",
    "            model(\n",
    "                **preprocess(\n",
    "                    cv2.imread(path),\n",
    "                    return_tensors=\"pt\",\n",
    "                )\n",
    "            ).pooler_output\n",
    "        )\n",
    "        \n",
    "    embeddings_test = []\n",
    "    for path in tqdm.tqdm(test_paths):\n",
    "        embeddings_test.append(\n",
    "            model(\n",
    "                **preprocess(\n",
    "                    cv2.imread(path),\n",
    "                    return_tensors=\"pt\",\n",
    "                )\n",
    "            ).pooler_output\n",
    "        )\n"
   ]
  },
  {
   "cell_type": "code",
   "execution_count": null,
   "id": "698d41e6",
   "metadata": {},
   "outputs": [],
   "source": []
  },
  {
   "cell_type": "markdown",
   "id": "90ad4665",
   "metadata": {},
   "source": [
    "## Self made"
   ]
  },
  {
   "cell_type": "code",
   "execution_count": null,
   "id": "20e17b3b",
   "metadata": {},
   "outputs": [],
   "source": []
  }
 ],
 "metadata": {
  "kernelspec": {
   "display_name": "Python 3",
   "language": "python",
   "name": "python3"
  },
  "language_info": {
   "codemirror_mode": {
    "name": "ipython",
    "version": 3
   },
   "file_extension": ".py",
   "mimetype": "text/x-python",
   "name": "python",
   "nbconvert_exporter": "python",
   "pygments_lexer": "ipython3",
   "version": "3.11.13"
  }
 },
 "nbformat": 4,
 "nbformat_minor": 5
}
